{
 "cells": [
  {
   "cell_type": "markdown",
   "id": "5193d60c",
   "metadata": {},
   "source": [
    "# Anime Recommender System"
   ]
  },
  {
   "cell_type": "code",
   "execution_count": 1,
   "id": "8d3bed47",
   "metadata": {},
   "outputs": [],
   "source": [
    "import numpy as np\n",
    "import pandas as pd\n",
    "import matplotlib.pyplot as plt\n",
    "import seaborn as sns\n",
    "\n",
    "%matplotlib inline"
   ]
  },
  {
   "cell_type": "code",
   "execution_count": 2,
   "id": "b4c199e7",
   "metadata": {},
   "outputs": [],
   "source": [
    "import warnings\n",
    "warnings.filterwarnings('ignore')"
   ]
  },
  {
   "cell_type": "code",
   "execution_count": 3,
   "id": "c7ef4d1c",
   "metadata": {},
   "outputs": [],
   "source": [
    "df = pd.read_csv('Anime.csv')"
   ]
  },
  {
   "cell_type": "code",
   "execution_count": 4,
   "id": "f1eed74b",
   "metadata": {},
   "outputs": [
    {
     "data": {
      "text/html": [
       "<div>\n",
       "<style scoped>\n",
       "    .dataframe tbody tr th:only-of-type {\n",
       "        vertical-align: middle;\n",
       "    }\n",
       "\n",
       "    .dataframe tbody tr th {\n",
       "        vertical-align: top;\n",
       "    }\n",
       "\n",
       "    .dataframe thead th {\n",
       "        text-align: right;\n",
       "    }\n",
       "</style>\n",
       "<table border=\"1\" class=\"dataframe\">\n",
       "  <thead>\n",
       "    <tr style=\"text-align: right;\">\n",
       "      <th></th>\n",
       "      <th>Rank</th>\n",
       "      <th>Name</th>\n",
       "      <th>Japanese_name</th>\n",
       "      <th>Type</th>\n",
       "      <th>Episodes</th>\n",
       "      <th>Studio</th>\n",
       "      <th>Release_season</th>\n",
       "      <th>Tags</th>\n",
       "      <th>Rating</th>\n",
       "      <th>Release_year</th>\n",
       "      <th>End_year</th>\n",
       "      <th>Description</th>\n",
       "      <th>Content_Warning</th>\n",
       "      <th>Related_Mange</th>\n",
       "      <th>Related_anime</th>\n",
       "      <th>Voice_actors</th>\n",
       "      <th>staff</th>\n",
       "    </tr>\n",
       "  </thead>\n",
       "  <tbody>\n",
       "    <tr>\n",
       "      <th>0</th>\n",
       "      <td>1</td>\n",
       "      <td>Demon Slayer: Kimetsu no Yaiba - Entertainment...</td>\n",
       "      <td>Kimetsu no Yaiba: Yuukaku-hen</td>\n",
       "      <td>TV</td>\n",
       "      <td>NaN</td>\n",
       "      <td>ufotable</td>\n",
       "      <td>Fall</td>\n",
       "      <td>Action, Adventure, Fantasy, Shounen, Demons, H...</td>\n",
       "      <td>4.60</td>\n",
       "      <td>2021.0</td>\n",
       "      <td>NaN</td>\n",
       "      <td>'Tanjiro and his friends accompany the Hashira...</td>\n",
       "      <td>Explicit Violence</td>\n",
       "      <td>Demon Slayer: Kimetsu no Yaiba</td>\n",
       "      <td>Demon Slayer: Kimetsu no Yaiba, Demon Slayer: ...</td>\n",
       "      <td>Inosuke Hashibira : Yoshitsugu Matsuoka, Nezuk...</td>\n",
       "      <td>Koyoharu Gotouge : Original Creator, Haruo Sot...</td>\n",
       "    </tr>\n",
       "    <tr>\n",
       "      <th>1</th>\n",
       "      <td>2</td>\n",
       "      <td>Fruits Basket the Final Season</td>\n",
       "      <td>Fruits Basket the Final</td>\n",
       "      <td>TV</td>\n",
       "      <td>13.0</td>\n",
       "      <td>TMS Entertainment</td>\n",
       "      <td>Spring</td>\n",
       "      <td>Drama, Fantasy, Romance, Shoujo, Animal Transf...</td>\n",
       "      <td>4.60</td>\n",
       "      <td>2021.0</td>\n",
       "      <td>NaN</td>\n",
       "      <td>'The final arc of Fruits Basket.'</td>\n",
       "      <td>Emotional Abuse,, Mature Themes,, Physical Abu...</td>\n",
       "      <td>Fruits Basket, Fruits Basket Another</td>\n",
       "      <td>Fruits Basket 1st Season, Fruits Basket 2nd Se...</td>\n",
       "      <td>Akito Sohma : Maaya Sakamoto, Kyo Sohma : Yuum...</td>\n",
       "      <td>Natsuki Takaya : Original Creator, Yoshihide I...</td>\n",
       "    </tr>\n",
       "    <tr>\n",
       "      <th>2</th>\n",
       "      <td>3</td>\n",
       "      <td>Mo Dao Zu Shi 3</td>\n",
       "      <td>The Founder of Diabolism 3</td>\n",
       "      <td>Web</td>\n",
       "      <td>12.0</td>\n",
       "      <td>B.C MAY PICTURES</td>\n",
       "      <td>NaN</td>\n",
       "      <td>Fantasy, Ancient China, Chinese Animation, Cul...</td>\n",
       "      <td>4.58</td>\n",
       "      <td>2021.0</td>\n",
       "      <td>NaN</td>\n",
       "      <td>'The third season of Mo Dao Zu Shi.'</td>\n",
       "      <td>NaN</td>\n",
       "      <td>Grandmaster of Demonic Cultivation: Mo Dao Zu ...</td>\n",
       "      <td>Mo Dao Zu Shi 2, Mo Dao Zu Shi Q</td>\n",
       "      <td>Lan Wangji, Wei Wuxian, Jiang Cheng, Jin Guang...</td>\n",
       "      <td>Mo Xiang Tong Xiu : Original Creator, Xiong Ke...</td>\n",
       "    </tr>\n",
       "    <tr>\n",
       "      <th>3</th>\n",
       "      <td>4</td>\n",
       "      <td>Fullmetal Alchemist: Brotherhood</td>\n",
       "      <td>Hagane no Renkinjutsushi: Full Metal Alchemist</td>\n",
       "      <td>TV</td>\n",
       "      <td>64.0</td>\n",
       "      <td>Bones</td>\n",
       "      <td>Spring</td>\n",
       "      <td>Action, Adventure, Drama, Fantasy, Mystery, Sh...</td>\n",
       "      <td>4.58</td>\n",
       "      <td>2009.0</td>\n",
       "      <td>2010.0</td>\n",
       "      <td>\"The foundation of alchemy is based on the law...</td>\n",
       "      <td>Animal Abuse,, Mature Themes,, Violence,, Dome...</td>\n",
       "      <td>Fullmetal Alchemist, Fullmetal Alchemist (Ligh...</td>\n",
       "      <td>Fullmetal Alchemist: Brotherhood Specials, Ful...</td>\n",
       "      <td>Alphonse Elric : Rie Kugimiya, Edward Elric : ...</td>\n",
       "      <td>Hiromu Arakawa : Original Creator, Yasuhiro Ir...</td>\n",
       "    </tr>\n",
       "    <tr>\n",
       "      <th>4</th>\n",
       "      <td>5</td>\n",
       "      <td>Attack on Titan 3rd Season: Part II</td>\n",
       "      <td>Shingeki no Kyojin Season 3: Part II</td>\n",
       "      <td>TV</td>\n",
       "      <td>10.0</td>\n",
       "      <td>WIT Studio</td>\n",
       "      <td>Spring</td>\n",
       "      <td>Action, Fantasy, Horror, Shounen, Dark Fantasy...</td>\n",
       "      <td>4.57</td>\n",
       "      <td>2019.0</td>\n",
       "      <td>NaN</td>\n",
       "      <td>'The battle to retake Wall Maria begins now! W...</td>\n",
       "      <td>Cannibalism,, Explicit Violence</td>\n",
       "      <td>Attack on Titan, Attack on Titan: End of the W...</td>\n",
       "      <td>Attack on Titan, Attack on Titan 2nd Season, A...</td>\n",
       "      <td>Armin Arlelt : Marina Inoue, Eren Jaeger : Yuu...</td>\n",
       "      <td>Hajime Isayama : Original Creator, Tetsurou Ar...</td>\n",
       "    </tr>\n",
       "  </tbody>\n",
       "</table>\n",
       "</div>"
      ],
      "text/plain": [
       "   Rank                                               Name  \\\n",
       "0     1  Demon Slayer: Kimetsu no Yaiba - Entertainment...   \n",
       "1     2                     Fruits Basket the Final Season   \n",
       "2     3                                    Mo Dao Zu Shi 3   \n",
       "3     4                   Fullmetal Alchemist: Brotherhood   \n",
       "4     5                Attack on Titan 3rd Season: Part II   \n",
       "\n",
       "                                     Japanese_name   Type  Episodes  \\\n",
       "0                    Kimetsu no Yaiba: Yuukaku-hen  TV          NaN   \n",
       "1                          Fruits Basket the Final  TV         13.0   \n",
       "2                       The Founder of Diabolism 3  Web        12.0   \n",
       "3   Hagane no Renkinjutsushi: Full Metal Alchemist  TV         64.0   \n",
       "4             Shingeki no Kyojin Season 3: Part II  TV         10.0   \n",
       "\n",
       "              Studio Release_season  \\\n",
       "0           ufotable          Fall    \n",
       "1  TMS Entertainment         Spring   \n",
       "2   B.C MAY PICTURES            NaN   \n",
       "3              Bones         Spring   \n",
       "4         WIT Studio         Spring   \n",
       "\n",
       "                                                Tags  Rating  Release_year  \\\n",
       "0  Action, Adventure, Fantasy, Shounen, Demons, H...    4.60        2021.0   \n",
       "1  Drama, Fantasy, Romance, Shoujo, Animal Transf...    4.60        2021.0   \n",
       "2  Fantasy, Ancient China, Chinese Animation, Cul...    4.58        2021.0   \n",
       "3  Action, Adventure, Drama, Fantasy, Mystery, Sh...    4.58        2009.0   \n",
       "4  Action, Fantasy, Horror, Shounen, Dark Fantasy...    4.57        2019.0   \n",
       "\n",
       "   End_year                                        Description  \\\n",
       "0       NaN  'Tanjiro and his friends accompany the Hashira...   \n",
       "1       NaN                  'The final arc of Fruits Basket.'   \n",
       "2       NaN               'The third season of Mo Dao Zu Shi.'   \n",
       "3    2010.0  \"The foundation of alchemy is based on the law...   \n",
       "4       NaN  'The battle to retake Wall Maria begins now! W...   \n",
       "\n",
       "                                     Content_Warning  \\\n",
       "0                                  Explicit Violence   \n",
       "1  Emotional Abuse,, Mature Themes,, Physical Abu...   \n",
       "2                                                NaN   \n",
       "3  Animal Abuse,, Mature Themes,, Violence,, Dome...   \n",
       "4                    Cannibalism,, Explicit Violence   \n",
       "\n",
       "                                       Related_Mange  \\\n",
       "0                     Demon Slayer: Kimetsu no Yaiba   \n",
       "1               Fruits Basket, Fruits Basket Another   \n",
       "2  Grandmaster of Demonic Cultivation: Mo Dao Zu ...   \n",
       "3  Fullmetal Alchemist, Fullmetal Alchemist (Ligh...   \n",
       "4  Attack on Titan, Attack on Titan: End of the W...   \n",
       "\n",
       "                                       Related_anime  \\\n",
       "0  Demon Slayer: Kimetsu no Yaiba, Demon Slayer: ...   \n",
       "1  Fruits Basket 1st Season, Fruits Basket 2nd Se...   \n",
       "2                   Mo Dao Zu Shi 2, Mo Dao Zu Shi Q   \n",
       "3  Fullmetal Alchemist: Brotherhood Specials, Ful...   \n",
       "4  Attack on Titan, Attack on Titan 2nd Season, A...   \n",
       "\n",
       "                                        Voice_actors  \\\n",
       "0  Inosuke Hashibira : Yoshitsugu Matsuoka, Nezuk...   \n",
       "1  Akito Sohma : Maaya Sakamoto, Kyo Sohma : Yuum...   \n",
       "2  Lan Wangji, Wei Wuxian, Jiang Cheng, Jin Guang...   \n",
       "3  Alphonse Elric : Rie Kugimiya, Edward Elric : ...   \n",
       "4  Armin Arlelt : Marina Inoue, Eren Jaeger : Yuu...   \n",
       "\n",
       "                                               staff  \n",
       "0  Koyoharu Gotouge : Original Creator, Haruo Sot...  \n",
       "1  Natsuki Takaya : Original Creator, Yoshihide I...  \n",
       "2  Mo Xiang Tong Xiu : Original Creator, Xiong Ke...  \n",
       "3  Hiromu Arakawa : Original Creator, Yasuhiro Ir...  \n",
       "4  Hajime Isayama : Original Creator, Tetsurou Ar...  "
      ]
     },
     "execution_count": 4,
     "metadata": {},
     "output_type": "execute_result"
    }
   ],
   "source": [
    "df.head()"
   ]
  },
  {
   "cell_type": "code",
   "execution_count": 5,
   "id": "3d228d5b",
   "metadata": {},
   "outputs": [
    {
     "name": "stdout",
     "output_type": "stream",
     "text": [
      "<class 'pandas.core.frame.DataFrame'>\n",
      "RangeIndex: 18495 entries, 0 to 18494\n",
      "Data columns (total 17 columns):\n",
      " #   Column           Non-Null Count  Dtype  \n",
      "---  ------           --------------  -----  \n",
      " 0   Rank             18495 non-null  int64  \n",
      " 1   Name             18495 non-null  object \n",
      " 2   Japanese_name    7938 non-null   object \n",
      " 3   Type             18495 non-null  object \n",
      " 4   Episodes         9501 non-null   float64\n",
      " 5   Studio           12018 non-null  object \n",
      " 6   Release_season   4116 non-null   object \n",
      " 7   Tags             18095 non-null  object \n",
      " 8   Rating           15364 non-null  float64\n",
      " 9   Release_year     18112 non-null  float64\n",
      " 10  End_year         2854 non-null   float64\n",
      " 11  Description      18491 non-null  object \n",
      " 12  Content_Warning  1840 non-null   object \n",
      " 13  Related_Mange    7627 non-null   object \n",
      " 14  Related_anime    10063 non-null  object \n",
      " 15  Voice_actors     15309 non-null  object \n",
      " 16  staff            13005 non-null  object \n",
      "dtypes: float64(4), int64(1), object(12)\n",
      "memory usage: 2.4+ MB\n"
     ]
    }
   ],
   "source": [
    "df.info()"
   ]
  },
  {
   "cell_type": "code",
   "execution_count": 6,
   "id": "335bfe93",
   "metadata": {},
   "outputs": [
    {
     "data": {
      "text/html": [
       "<div>\n",
       "<style scoped>\n",
       "    .dataframe tbody tr th:only-of-type {\n",
       "        vertical-align: middle;\n",
       "    }\n",
       "\n",
       "    .dataframe tbody tr th {\n",
       "        vertical-align: top;\n",
       "    }\n",
       "\n",
       "    .dataframe thead th {\n",
       "        text-align: right;\n",
       "    }\n",
       "</style>\n",
       "<table border=\"1\" class=\"dataframe\">\n",
       "  <thead>\n",
       "    <tr style=\"text-align: right;\">\n",
       "      <th></th>\n",
       "      <th>Rank</th>\n",
       "      <th>Episodes</th>\n",
       "      <th>Rating</th>\n",
       "      <th>Release_year</th>\n",
       "      <th>End_year</th>\n",
       "    </tr>\n",
       "  </thead>\n",
       "  <tbody>\n",
       "    <tr>\n",
       "      <th>count</th>\n",
       "      <td>18495.00000</td>\n",
       "      <td>9501.000000</td>\n",
       "      <td>15364.000000</td>\n",
       "      <td>18112.000000</td>\n",
       "      <td>2854.000000</td>\n",
       "    </tr>\n",
       "    <tr>\n",
       "      <th>mean</th>\n",
       "      <td>9248.00000</td>\n",
       "      <td>20.920850</td>\n",
       "      <td>3.355133</td>\n",
       "      <td>2006.520318</td>\n",
       "      <td>2004.256132</td>\n",
       "    </tr>\n",
       "    <tr>\n",
       "      <th>std</th>\n",
       "      <td>5339.19095</td>\n",
       "      <td>37.990858</td>\n",
       "      <td>0.400624</td>\n",
       "      <td>15.189537</td>\n",
       "      <td>13.257484</td>\n",
       "    </tr>\n",
       "    <tr>\n",
       "      <th>min</th>\n",
       "      <td>1.00000</td>\n",
       "      <td>1.000000</td>\n",
       "      <td>0.960000</td>\n",
       "      <td>1907.000000</td>\n",
       "      <td>1962.000000</td>\n",
       "    </tr>\n",
       "    <tr>\n",
       "      <th>25%</th>\n",
       "      <td>4624.50000</td>\n",
       "      <td>2.000000</td>\n",
       "      <td>3.130000</td>\n",
       "      <td>2001.000000</td>\n",
       "      <td>1996.000000</td>\n",
       "    </tr>\n",
       "    <tr>\n",
       "      <th>50%</th>\n",
       "      <td>9248.00000</td>\n",
       "      <td>12.000000</td>\n",
       "      <td>3.360000</td>\n",
       "      <td>2012.000000</td>\n",
       "      <td>2007.000000</td>\n",
       "    </tr>\n",
       "    <tr>\n",
       "      <th>75%</th>\n",
       "      <td>13871.50000</td>\n",
       "      <td>26.000000</td>\n",
       "      <td>3.590000</td>\n",
       "      <td>2017.000000</td>\n",
       "      <td>2015.000000</td>\n",
       "    </tr>\n",
       "    <tr>\n",
       "      <th>max</th>\n",
       "      <td>18495.00000</td>\n",
       "      <td>800.000000</td>\n",
       "      <td>4.600000</td>\n",
       "      <td>2023.000000</td>\n",
       "      <td>2022.000000</td>\n",
       "    </tr>\n",
       "  </tbody>\n",
       "</table>\n",
       "</div>"
      ],
      "text/plain": [
       "              Rank     Episodes        Rating  Release_year     End_year\n",
       "count  18495.00000  9501.000000  15364.000000  18112.000000  2854.000000\n",
       "mean    9248.00000    20.920850      3.355133   2006.520318  2004.256132\n",
       "std     5339.19095    37.990858      0.400624     15.189537    13.257484\n",
       "min        1.00000     1.000000      0.960000   1907.000000  1962.000000\n",
       "25%     4624.50000     2.000000      3.130000   2001.000000  1996.000000\n",
       "50%     9248.00000    12.000000      3.360000   2012.000000  2007.000000\n",
       "75%    13871.50000    26.000000      3.590000   2017.000000  2015.000000\n",
       "max    18495.00000   800.000000      4.600000   2023.000000  2022.000000"
      ]
     },
     "execution_count": 6,
     "metadata": {},
     "output_type": "execute_result"
    }
   ],
   "source": [
    "df.describe()"
   ]
  },
  {
   "cell_type": "code",
   "execution_count": 7,
   "id": "4a6f9811",
   "metadata": {},
   "outputs": [
    {
     "data": {
      "text/plain": [
       "'Drama, Fantasy, Romance, Shoujo, Animal Transformation, Contemporary Fantasy, Curse, Dysfunctional Families, Mental Illness, Orphans, Based on a Manga, Emotional Abuse,, Mature Themes,, Physical Abuse,, Suicide,, Violence,, Domestic Abuse'"
      ]
     },
     "execution_count": 7,
     "metadata": {},
     "output_type": "execute_result"
    }
   ],
   "source": [
    "df['Tags'][1]"
   ]
  },
  {
   "cell_type": "code",
   "execution_count": 8,
   "id": "0da87b09",
   "metadata": {},
   "outputs": [
    {
     "data": {
      "text/plain": [
       "\"'The final arc of Fruits Basket.'\""
      ]
     },
     "execution_count": 8,
     "metadata": {},
     "output_type": "execute_result"
    }
   ],
   "source": [
    "df['Description'][1]"
   ]
  },
  {
   "cell_type": "code",
   "execution_count": 9,
   "id": "62e12118",
   "metadata": {},
   "outputs": [
    {
     "data": {
      "text/plain": [
       "'TMS Entertainment'"
      ]
     },
     "execution_count": 9,
     "metadata": {},
     "output_type": "execute_result"
    }
   ],
   "source": [
    "df['Studio'][1]"
   ]
  },
  {
   "cell_type": "markdown",
   "id": "a07c1dcc",
   "metadata": {},
   "source": [
    "A look at the average rating of each title name."
   ]
  },
  {
   "cell_type": "code",
   "execution_count": 10,
   "id": "afd1522e",
   "metadata": {},
   "outputs": [
    {
     "data": {
      "text/plain": [
       "Name\n",
       "Fruits Basket the Final Season                                 4.60\n",
       "Demon Slayer: Kimetsu no Yaiba - Entertainment District Arc    4.60\n",
       "Mo Dao Zu Shi 3                                                4.58\n",
       "Fullmetal Alchemist: Brotherhood                               4.58\n",
       "Attack on Titan 3rd Season: Part II                            4.57\n",
       "Attack on Titan The Final Season: Part II                      4.56\n",
       "Jujutsu Kaisen                                                 4.56\n",
       "Attack on Titan The Final Season                               4.55\n",
       "Demon Slayer: Kimetsu no Yaiba Movie - Mugen Train             4.54\n",
       "Haikyuu!! Karasuno High School vs Shiratorizawa Academy        4.53\n",
       "Name: Rating, dtype: float64"
      ]
     },
     "execution_count": 10,
     "metadata": {},
     "output_type": "execute_result"
    }
   ],
   "source": [
    "df.groupby('Name')['Rating'].mean().sort_values(ascending= False).head(10)"
   ]
  },
  {
   "cell_type": "markdown",
   "id": "ec7a556e",
   "metadata": {},
   "source": [
    "## Preparing Data"
   ]
  },
  {
   "cell_type": "markdown",
   "id": "eee4e198",
   "metadata": {},
   "source": [
    "To prepare the data, only certain columns will be used for building the recommendation system. Furthermore, the variables will be looked into to determine what is and is not in the variables."
   ]
  },
  {
   "cell_type": "code",
   "execution_count": 11,
   "id": "f8f5ddbe",
   "metadata": {},
   "outputs": [],
   "source": [
    "anime_df = df[['Rank', 'Name', 'Type', 'Studio', 'Tags', 'Rating', 'Description']]"
   ]
  },
  {
   "cell_type": "code",
   "execution_count": 12,
   "id": "ff427b7f",
   "metadata": {},
   "outputs": [
    {
     "data": {
      "text/html": [
       "<div>\n",
       "<style scoped>\n",
       "    .dataframe tbody tr th:only-of-type {\n",
       "        vertical-align: middle;\n",
       "    }\n",
       "\n",
       "    .dataframe tbody tr th {\n",
       "        vertical-align: top;\n",
       "    }\n",
       "\n",
       "    .dataframe thead th {\n",
       "        text-align: right;\n",
       "    }\n",
       "</style>\n",
       "<table border=\"1\" class=\"dataframe\">\n",
       "  <thead>\n",
       "    <tr style=\"text-align: right;\">\n",
       "      <th></th>\n",
       "      <th>Rank</th>\n",
       "      <th>Name</th>\n",
       "      <th>Type</th>\n",
       "      <th>Studio</th>\n",
       "      <th>Tags</th>\n",
       "      <th>Rating</th>\n",
       "      <th>Description</th>\n",
       "    </tr>\n",
       "  </thead>\n",
       "  <tbody>\n",
       "    <tr>\n",
       "      <th>0</th>\n",
       "      <td>1</td>\n",
       "      <td>Demon Slayer: Kimetsu no Yaiba - Entertainment...</td>\n",
       "      <td>TV</td>\n",
       "      <td>ufotable</td>\n",
       "      <td>Action, Adventure, Fantasy, Shounen, Demons, H...</td>\n",
       "      <td>4.60</td>\n",
       "      <td>'Tanjiro and his friends accompany the Hashira...</td>\n",
       "    </tr>\n",
       "    <tr>\n",
       "      <th>1</th>\n",
       "      <td>2</td>\n",
       "      <td>Fruits Basket the Final Season</td>\n",
       "      <td>TV</td>\n",
       "      <td>TMS Entertainment</td>\n",
       "      <td>Drama, Fantasy, Romance, Shoujo, Animal Transf...</td>\n",
       "      <td>4.60</td>\n",
       "      <td>'The final arc of Fruits Basket.'</td>\n",
       "    </tr>\n",
       "    <tr>\n",
       "      <th>2</th>\n",
       "      <td>3</td>\n",
       "      <td>Mo Dao Zu Shi 3</td>\n",
       "      <td>Web</td>\n",
       "      <td>B.C MAY PICTURES</td>\n",
       "      <td>Fantasy, Ancient China, Chinese Animation, Cul...</td>\n",
       "      <td>4.58</td>\n",
       "      <td>'The third season of Mo Dao Zu Shi.'</td>\n",
       "    </tr>\n",
       "    <tr>\n",
       "      <th>3</th>\n",
       "      <td>4</td>\n",
       "      <td>Fullmetal Alchemist: Brotherhood</td>\n",
       "      <td>TV</td>\n",
       "      <td>Bones</td>\n",
       "      <td>Action, Adventure, Drama, Fantasy, Mystery, Sh...</td>\n",
       "      <td>4.58</td>\n",
       "      <td>\"The foundation of alchemy is based on the law...</td>\n",
       "    </tr>\n",
       "    <tr>\n",
       "      <th>4</th>\n",
       "      <td>5</td>\n",
       "      <td>Attack on Titan 3rd Season: Part II</td>\n",
       "      <td>TV</td>\n",
       "      <td>WIT Studio</td>\n",
       "      <td>Action, Fantasy, Horror, Shounen, Dark Fantasy...</td>\n",
       "      <td>4.57</td>\n",
       "      <td>'The battle to retake Wall Maria begins now! W...</td>\n",
       "    </tr>\n",
       "  </tbody>\n",
       "</table>\n",
       "</div>"
      ],
      "text/plain": [
       "   Rank                                               Name   Type  \\\n",
       "0     1  Demon Slayer: Kimetsu no Yaiba - Entertainment...  TV      \n",
       "1     2                     Fruits Basket the Final Season  TV      \n",
       "2     3                                    Mo Dao Zu Shi 3  Web     \n",
       "3     4                   Fullmetal Alchemist: Brotherhood  TV      \n",
       "4     5                Attack on Titan 3rd Season: Part II  TV      \n",
       "\n",
       "              Studio                                               Tags  \\\n",
       "0           ufotable  Action, Adventure, Fantasy, Shounen, Demons, H...   \n",
       "1  TMS Entertainment  Drama, Fantasy, Romance, Shoujo, Animal Transf...   \n",
       "2   B.C MAY PICTURES  Fantasy, Ancient China, Chinese Animation, Cul...   \n",
       "3              Bones  Action, Adventure, Drama, Fantasy, Mystery, Sh...   \n",
       "4         WIT Studio  Action, Fantasy, Horror, Shounen, Dark Fantasy...   \n",
       "\n",
       "   Rating                                        Description  \n",
       "0    4.60  'Tanjiro and his friends accompany the Hashira...  \n",
       "1    4.60                  'The final arc of Fruits Basket.'  \n",
       "2    4.58               'The third season of Mo Dao Zu Shi.'  \n",
       "3    4.58  \"The foundation of alchemy is based on the law...  \n",
       "4    4.57  'The battle to retake Wall Maria begins now! W...  "
      ]
     },
     "execution_count": 12,
     "metadata": {},
     "output_type": "execute_result"
    }
   ],
   "source": [
    "anime_df.head()"
   ]
  },
  {
   "cell_type": "code",
   "execution_count": 13,
   "id": "11e21195",
   "metadata": {},
   "outputs": [
    {
     "data": {
      "text/plain": [
       "0"
      ]
     },
     "execution_count": 13,
     "metadata": {},
     "output_type": "execute_result"
    }
   ],
   "source": [
    "anime_df.duplicated().sum()"
   ]
  },
  {
   "cell_type": "code",
   "execution_count": 14,
   "id": "cce870e0",
   "metadata": {},
   "outputs": [
    {
     "data": {
      "text/plain": [
       "Toei Animation       737\n",
       "Sunrise              476\n",
       "J.C.Staff            382\n",
       "TMS Entertainment    364\n",
       "MADHOUSE             357\n",
       "                    ... \n",
       "Studio Shelter         1\n",
       "Fall 2005              1\n",
       "Studio Bogey           1\n",
       "Studio Yamato          1\n",
       "Spring 1997            1\n",
       "Name: Studio, Length: 745, dtype: int64"
      ]
     },
     "execution_count": 14,
     "metadata": {},
     "output_type": "execute_result"
    }
   ],
   "source": [
    "anime_df['Studio'].value_counts()"
   ]
  },
  {
   "cell_type": "code",
   "execution_count": 15,
   "id": "a1c7c492",
   "metadata": {},
   "outputs": [
    {
     "data": {
      "text/plain": [
       "array(['TV   ', 'Web  ', 'Movie', 'OVA  ', 'Music', 'TV Sp', 'DVD S',\n",
       "       'Other'], dtype=object)"
      ]
     },
     "execution_count": 15,
     "metadata": {},
     "output_type": "execute_result"
    }
   ],
   "source": [
    "anime_df['Type'].unique()"
   ]
  },
  {
   "cell_type": "code",
   "execution_count": 16,
   "id": "54c5819f",
   "metadata": {
    "scrolled": true
   },
   "outputs": [
    {
     "data": {
      "text/plain": [
       "TV       5446\n",
       "Movie    3577\n",
       "Web      2488\n",
       "OVA      2235\n",
       "Music    2165\n",
       "Other     990\n",
       "DVD S     911\n",
       "TV Sp     683\n",
       "Name: Type, dtype: int64"
      ]
     },
     "execution_count": 16,
     "metadata": {},
     "output_type": "execute_result"
    }
   ],
   "source": [
    "anime_df['Type'].value_counts()"
   ]
  },
  {
   "cell_type": "code",
   "execution_count": 17,
   "id": "f9754b66",
   "metadata": {},
   "outputs": [
    {
     "data": {
      "text/plain": [
       "Rank              0\n",
       "Name              0\n",
       "Type              0\n",
       "Studio         6477\n",
       "Tags            400\n",
       "Rating         3131\n",
       "Description       4\n",
       "dtype: int64"
      ]
     },
     "execution_count": 17,
     "metadata": {},
     "output_type": "execute_result"
    }
   ],
   "source": [
    "anime_df.isnull().sum()"
   ]
  },
  {
   "cell_type": "code",
   "execution_count": 18,
   "id": "7ccbd7ee",
   "metadata": {},
   "outputs": [
    {
     "data": {
      "text/plain": [
       "<AxesSubplot:>"
      ]
     },
     "execution_count": 18,
     "metadata": {},
     "output_type": "execute_result"
    },
    {
     "data": {
      "image/png": "[encoded data removed]",
      "text/plain": [
       "<Figure size 640x480 with 1 Axes>"
      ]
     },
     "metadata": {},
     "output_type": "display_data"
    }
   ],
   "source": [
    "sns.heatmap(anime_df.isnull(), cbar= False, yticklabels= False)"
   ]
  },
  {
   "cell_type": "markdown",
   "id": "9f778c07",
   "metadata": {},
   "source": [
    "## Cleaning Data"
   ]
  },
  {
   "cell_type": "markdown",
   "id": "5cb3fcde",
   "metadata": {},
   "source": [
    "To make the recommendations more relevant to the anime plotlines, filler content will be removed. Through some research, two categories will be dropped from Type feature. OVA content was kept because, although most are filler, some are plot related. It was felt safer to keep that data for now."
   ]
  },
  {
   "cell_type": "code",
   "execution_count": 19,
   "id": "cf3672e5",
   "metadata": {},
   "outputs": [],
   "source": [
    "filler_content = anime_df[(anime_df['Type'] == 'Music') | (anime_df['Type'] == 'TV Sp')].index"
   ]
  },
  {
   "cell_type": "code",
   "execution_count": 20,
   "id": "1dadd11b",
   "metadata": {},
   "outputs": [],
   "source": [
    "anime_df.drop(filler_content, inplace = True)"
   ]
  },
  {
   "cell_type": "markdown",
   "id": "89d36a7d",
   "metadata": {},
   "source": [
    "The Studio column has too many missing values and would be difficult and time cinsuming to imputate, with accuracy, on which studio is associated with the anime. This column will be removed."
   ]
  },
  {
   "cell_type": "code",
   "execution_count": 21,
   "id": "43ba082e",
   "metadata": {},
   "outputs": [],
   "source": [
    "anime_df.drop('Studio', axis= 1, inplace= True)"
   ]
  },
  {
   "cell_type": "code",
   "execution_count": 22,
   "id": "96df790e",
   "metadata": {},
   "outputs": [
    {
     "data": {
      "text/plain": [
       "<AxesSubplot:>"
      ]
     },
     "execution_count": 22,
     "metadata": {},
     "output_type": "execute_result"
    },
    {
     "data": {
      "image/png": "[encoded data removed]",
      "text/plain": [
       "<Figure size 640x480 with 1 Axes>"
      ]
     },
     "metadata": {},
     "output_type": "display_data"
    }
   ],
   "source": [
    "sns.heatmap(anime_df.isnull(), cbar= False, yticklabels= False)"
   ]
  },
  {
   "cell_type": "code",
   "execution_count": 23,
   "id": "674beefd",
   "metadata": {},
   "outputs": [
    {
     "data": {
      "text/plain": [
       "Rank              0\n",
       "Name              0\n",
       "Type              0\n",
       "Tags             75\n",
       "Rating         2927\n",
       "Description       4\n",
       "dtype: int64"
      ]
     },
     "execution_count": 23,
     "metadata": {},
     "output_type": "execute_result"
    }
   ],
   "source": [
    "anime_df.isnull().sum()"
   ]
  },
  {
   "cell_type": "markdown",
   "id": "7e42a349",
   "metadata": {},
   "source": [
    "Now to address the description column."
   ]
  },
  {
   "cell_type": "code",
   "execution_count": 24,
   "id": "57aa00d8",
   "metadata": {},
   "outputs": [
    {
     "data": {
      "text/plain": [
       "18490    Special episodes of Qin Shi Mingyue: Canghai H...\n",
       "18491                   No synopsis yet - check back soon!\n",
       "18492                   No synopsis yet - check back soon!\n",
       "18493                   No synopsis yet - check back soon!\n",
       "18494                   No synopsis yet - check back soon!\n",
       "Name: Description, dtype: object"
      ]
     },
     "execution_count": 24,
     "metadata": {},
     "output_type": "execute_result"
    }
   ],
   "source": [
    "anime_df['Description'].tail()"
   ]
  },
  {
   "cell_type": "markdown",
   "id": "2cb51238",
   "metadata": {},
   "source": [
    "### Cleaning Tags Data"
   ]
  },
  {
   "cell_type": "markdown",
   "id": "09bdcd2c",
   "metadata": {},
   "source": [
    "To clean the Tags varaible, a look into its correlations will show if this is an important feature for the recommendation system."
   ]
  },
  {
   "cell_type": "code",
   "execution_count": 25,
   "id": "5d994b1a",
   "metadata": {},
   "outputs": [],
   "source": [
    "# need to remove NaN values to use later function\n",
    "filter_nulls = anime_df[(anime_df['Description'].isnull()) | (anime_df['Tags'].isnull())].index"
   ]
  },
  {
   "cell_type": "code",
   "execution_count": 26,
   "id": "a3aee01b",
   "metadata": {},
   "outputs": [],
   "source": [
    "anime_df.drop(filter_nulls, inplace= True)"
   ]
  },
  {
   "cell_type": "code",
   "execution_count": 27,
   "id": "d20205cc",
   "metadata": {},
   "outputs": [
    {
     "data": {
      "text/plain": [
       "Rank              0\n",
       "Name              0\n",
       "Type              0\n",
       "Tags              0\n",
       "Rating         2915\n",
       "Description       0\n",
       "dtype: int64"
      ]
     },
     "execution_count": 27,
     "metadata": {},
     "output_type": "execute_result"
    }
   ],
   "source": [
    "anime_df.isnull().sum()"
   ]
  },
  {
   "cell_type": "code",
   "execution_count": 28,
   "id": "d5258762",
   "metadata": {},
   "outputs": [],
   "source": [
    "anime_df['Tags Length'] = anime_df['Tags'].apply(len)"
   ]
  },
  {
   "cell_type": "code",
   "execution_count": 29,
   "id": "78ed3f3d",
   "metadata": {},
   "outputs": [],
   "source": [
    "anime_data = anime_df.copy()"
   ]
  },
  {
   "cell_type": "code",
   "execution_count": 30,
   "id": "9af8dc80",
   "metadata": {},
   "outputs": [],
   "source": [
    "anime_rating = anime_data.groupby('Rating').mean()"
   ]
  },
  {
   "cell_type": "code",
   "execution_count": 31,
   "id": "809637c9",
   "metadata": {},
   "outputs": [
    {
     "data": {
      "text/html": [
       "<div>\n",
       "<style scoped>\n",
       "    .dataframe tbody tr th:only-of-type {\n",
       "        vertical-align: middle;\n",
       "    }\n",
       "\n",
       "    .dataframe tbody tr th {\n",
       "        vertical-align: top;\n",
       "    }\n",
       "\n",
       "    .dataframe thead th {\n",
       "        text-align: right;\n",
       "    }\n",
       "</style>\n",
       "<table border=\"1\" class=\"dataframe\">\n",
       "  <thead>\n",
       "    <tr style=\"text-align: right;\">\n",
       "      <th></th>\n",
       "      <th>Rating</th>\n",
       "      <th>Rank</th>\n",
       "      <th>Tags Length</th>\n",
       "    </tr>\n",
       "  </thead>\n",
       "  <tbody>\n",
       "    <tr>\n",
       "      <th>Rating</th>\n",
       "      <td>1.000000</td>\n",
       "      <td>-0.932849</td>\n",
       "      <td>0.701483</td>\n",
       "    </tr>\n",
       "    <tr>\n",
       "      <th>Rank</th>\n",
       "      <td>-0.932849</td>\n",
       "      <td>1.000000</td>\n",
       "      <td>-0.709693</td>\n",
       "    </tr>\n",
       "    <tr>\n",
       "      <th>Tags Length</th>\n",
       "      <td>0.701483</td>\n",
       "      <td>-0.709693</td>\n",
       "      <td>1.000000</td>\n",
       "    </tr>\n",
       "  </tbody>\n",
       "</table>\n",
       "</div>"
      ],
      "text/plain": [
       "               Rating      Rank  Tags Length\n",
       "Rating       1.000000 -0.932849     0.701483\n",
       "Rank        -0.932849  1.000000    -0.709693\n",
       "Tags Length  0.701483 -0.709693     1.000000"
      ]
     },
     "execution_count": 31,
     "metadata": {},
     "output_type": "execute_result"
    }
   ],
   "source": [
    "anime_rating.reset_index().corr()"
   ]
  },
  {
   "cell_type": "code",
   "execution_count": 32,
   "id": "18525f51",
   "metadata": {},
   "outputs": [
    {
     "data": {
      "text/plain": [
       "<AxesSubplot:>"
      ]
     },
     "execution_count": 32,
     "metadata": {},
     "output_type": "execute_result"
    },
    {
     "data": {
      "image/png": "[encoded data removed]",
      "text/plain": [
       "<Figure size 640x480 with 2 Axes>"
      ]
     },
     "metadata": {},
     "output_type": "display_data"
    }
   ],
   "source": [
    "sns.heatmap(anime_rating.reset_index().corr(), cmap= 'coolwarm', annot= True)"
   ]
  },
  {
   "cell_type": "markdown",
   "id": "d40b932f",
   "metadata": {},
   "source": [
    "Lets see the correlation when Rating is ungrouped."
   ]
  },
  {
   "cell_type": "code",
   "execution_count": 33,
   "id": "50ea51c2",
   "metadata": {},
   "outputs": [],
   "source": [
    "corr_anime_data = anime_data.corr()"
   ]
  },
  {
   "cell_type": "code",
   "execution_count": 34,
   "id": "4a69b365",
   "metadata": {},
   "outputs": [
    {
     "data": {
      "text/plain": [
       "<AxesSubplot:>"
      ]
     },
     "execution_count": 34,
     "metadata": {},
     "output_type": "execute_result"
    },
    {
     "data": {
      "image/png": "[encoded data removed]",
      "text/plain": [
       "<Figure size 640x480 with 2 Axes>"
      ]
     },
     "metadata": {},
     "output_type": "display_data"
    }
   ],
   "source": [
    "sns.heatmap(corr_anime_data, cmap= 'coolwarm', annot= True)"
   ]
  },
  {
   "cell_type": "code",
   "execution_count": 35,
   "id": "8a4689f2",
   "metadata": {
    "scrolled": true
   },
   "outputs": [
    {
     "data": {
      "text/plain": [
       "<seaborn.axisgrid.FacetGrid at 0x1dce5a85940>"
      ]
     },
     "execution_count": 35,
     "metadata": {},
     "output_type": "execute_result"
    },
    {
     "data": {
      "text/plain": [
       "<Figure size 1200x600 with 0 Axes>"
      ]
     },
     "metadata": {},
     "output_type": "display_data"
    },
    {
     "data": {
      "image/png": "[encoded data removed]",
      "text/plain": [
       "<Figure size 700x700 with 1 Axes>"
      ]
     },
     "metadata": {},
     "output_type": "display_data"
    }
   ],
   "source": [
    "\n",
    "plt.figure(figsize= (12, 6))\n",
    "\n",
    "#sns.jointplot(data= anime_data, x= 'Tags Length', y= 'Rating')\n",
    "anime_plot = sns.lmplot(data= anime_data, x= 'Tags Length', y= 'Rating', size= 7,\n",
    "                       line_kws= {'lw': 3, 'color': 'green', 'alpha': 0.6},\n",
    "                       scatter_kws= {'alpha': 0.3})\n",
    "anime_plot.set_xlabels('Tags Length')\n",
    "anime_plot.set_ylabels('Rating')"
   ]
  },
  {
   "cell_type": "markdown",
   "id": "333afeec",
   "metadata": {},
   "source": [
    "Since the correlations show an obvious relationship with Rank and Ratings and a weak relationship with Tags Length and Rating, let's finish cleaning the rest of our data for our recommender system."
   ]
  },
  {
   "cell_type": "markdown",
   "id": "606efd6e",
   "metadata": {},
   "source": [
    "### Cleaning up Remaining Data"
   ]
  },
  {
   "cell_type": "markdown",
   "id": "e1020c6a",
   "metadata": {},
   "source": [
    "Since Rating has a connection to Tags, imputatation on the nulls will be filled with the average rating."
   ]
  },
  {
   "cell_type": "code",
   "execution_count": 36,
   "id": "fb5f196e",
   "metadata": {},
   "outputs": [],
   "source": [
    "col_mean = anime_df['Rating'].mean()\n",
    "\n",
    "anime_df['Rating'].fillna(value= col_mean, inplace= True)"
   ]
  },
  {
   "cell_type": "code",
   "execution_count": 37,
   "id": "92ec609b",
   "metadata": {},
   "outputs": [
    {
     "data": {
      "text/plain": [
       "<AxesSubplot:>"
      ]
     },
     "execution_count": 37,
     "metadata": {},
     "output_type": "execute_result"
    },
    {
     "data": {
      "image/png": "[encoded data removed]",
      "text/plain": [
       "<Figure size 640x480 with 1 Axes>"
      ]
     },
     "metadata": {},
     "output_type": "display_data"
    }
   ],
   "source": [
    "sns.heatmap(anime_df.isnull(), cbar= False, yticklabels= False)"
   ]
  },
  {
   "cell_type": "code",
   "execution_count": 38,
   "id": "d6750269",
   "metadata": {},
   "outputs": [
    {
     "data": {
      "text/plain": [
       "Rank           0\n",
       "Name           0\n",
       "Type           0\n",
       "Tags           0\n",
       "Rating         0\n",
       "Description    0\n",
       "Tags Length    0\n",
       "dtype: int64"
      ]
     },
     "execution_count": 38,
     "metadata": {},
     "output_type": "execute_result"
    }
   ],
   "source": [
    "anime_df.isnull().sum()"
   ]
  },
  {
   "cell_type": "markdown",
   "id": "e8cf4fd7",
   "metadata": {},
   "source": [
    "One last part needs cleaning. When the unique values were shown for the Type variable, trailing whitespaces were seen. These need to be handled to get a consistency and accuracy."
   ]
  },
  {
   "cell_type": "code",
   "execution_count": 39,
   "id": "ee3ce4d9",
   "metadata": {},
   "outputs": [
    {
     "data": {
      "text/plain": [
       "array(['TV   ', 'Web  ', 'Movie', 'OVA  ', 'DVD S', 'Other'], dtype=object)"
      ]
     },
     "execution_count": 39,
     "metadata": {},
     "output_type": "execute_result"
    }
   ],
   "source": [
    "anime_df['Type'].unique()"
   ]
  },
  {
   "cell_type": "code",
   "execution_count": 40,
   "id": "975876be",
   "metadata": {},
   "outputs": [],
   "source": [
    "def space_remover(column):\n",
    "    \"\"\"\n",
    "    1). Iterate through a column.\n",
    "    2). For each value, split the string to then join them by the space and assign back to the column.\n",
    "    3). return the column.\n",
    "    \"\"\"\n",
    "    for text in column:\n",
    "        column = ' '.join(column.split())\n",
    "        # print(column)\n",
    "    return column"
   ]
  },
  {
   "cell_type": "code",
   "execution_count": 41,
   "id": "c10b34fd",
   "metadata": {},
   "outputs": [],
   "source": [
    "anime_df['Type2'] = anime_df['Type'].apply(space_remover)"
   ]
  },
  {
   "cell_type": "code",
   "execution_count": 42,
   "id": "d778e8b4",
   "metadata": {},
   "outputs": [
    {
     "data": {
      "text/plain": [
       "array(['TV', 'Web', 'Movie', 'OVA', 'DVD S', 'Other'], dtype=object)"
      ]
     },
     "execution_count": 42,
     "metadata": {},
     "output_type": "execute_result"
    }
   ],
   "source": [
    "anime_df['Type2'].unique()"
   ]
  },
  {
   "cell_type": "code",
   "execution_count": 43,
   "id": "24e80d50",
   "metadata": {},
   "outputs": [],
   "source": [
    "anime_df = anime_df.drop('Type', axis= 1)"
   ]
  },
  {
   "cell_type": "markdown",
   "id": "1126af7d",
   "metadata": {},
   "source": [
    "With our data clean, the last step is to clean up the Tags column to tokenize them for our recommender system."
   ]
  },
  {
   "cell_type": "code",
   "execution_count": 44,
   "id": "2dbcdcdc",
   "metadata": {},
   "outputs": [],
   "source": [
    "import string\n",
    "from nltk.corpus import stopwords"
   ]
  },
  {
   "cell_type": "code",
   "execution_count": 45,
   "id": "40a0883e",
   "metadata": {},
   "outputs": [],
   "source": [
    "def text_cleanup(words):\n",
    "    \"\"\"\n",
    "    1). Remove punctuation\n",
    "    2). Remove stopwords\n",
    "    3). Return list of clean text\n",
    "    \"\"\"\n",
    "    \n",
    "    nopunc = [char for char in words if char not in string.punctuation]\n",
    "    \n",
    "    nopunc = ''.join(nopunc)\n",
    "    \n",
    "    return [word.lower() for word in nopunc.split() if word.lower() not in stopwords.words('english')]"
   ]
  },
  {
   "cell_type": "code",
   "execution_count": 46,
   "id": "46127e34",
   "metadata": {},
   "outputs": [
    {
     "data": {
      "text/plain": [
       "0    [action, adventure, fantasy, shounen, demons, ...\n",
       "1    [drama, fantasy, romance, shoujo, animal, tran...\n",
       "2    [fantasy, ancient, china, chinese, animation, ...\n",
       "3    [action, adventure, drama, fantasy, mystery, s...\n",
       "4    [action, fantasy, horror, shounen, dark, fanta...\n",
       "Name: Tags, dtype: object"
      ]
     },
     "execution_count": 46,
     "metadata": {},
     "output_type": "execute_result"
    }
   ],
   "source": [
    "# change Tags' strings to tokens\n",
    "anime_df['Tags'].head().apply(text_cleanup)"
   ]
  },
  {
   "cell_type": "code",
   "execution_count": 47,
   "id": "cd3dc4ef",
   "metadata": {},
   "outputs": [
    {
     "data": {
      "text/plain": [
       "(15568, 7)"
      ]
     },
     "execution_count": 47,
     "metadata": {},
     "output_type": "execute_result"
    }
   ],
   "source": [
    "anime_df.shape"
   ]
  },
  {
   "cell_type": "markdown",
   "id": "55c28eb7",
   "metadata": {},
   "source": [
    "Now that we have our function to create tokens, we can make our recommendation system"
   ]
  },
  {
   "cell_type": "markdown",
   "id": "f7c5c680",
   "metadata": {},
   "source": [
    "## Create the Text Vectors"
   ]
  },
  {
   "cell_type": "code",
   "execution_count": 48,
   "id": "7b30560b",
   "metadata": {},
   "outputs": [],
   "source": [
    "from sklearn.feature_extraction.text import CountVectorizer"
   ]
  },
  {
   "cell_type": "code",
   "execution_count": 49,
   "id": "b8d0dda5",
   "metadata": {},
   "outputs": [],
   "source": [
    "covec = CountVectorizer(max_features= 15500, analyzer= text_cleanup)"
   ]
  },
  {
   "cell_type": "code",
   "execution_count": 50,
   "id": "2da22066",
   "metadata": {},
   "outputs": [
    {
     "data": {
      "text/plain": [
       "array([[0, 0, 0, ..., 0, 0, 0],\n",
       "       [0, 0, 0, ..., 0, 0, 0],\n",
       "       [0, 0, 0, ..., 0, 0, 0],\n",
       "       ...,\n",
       "       [0, 0, 0, ..., 0, 0, 0],\n",
       "       [0, 0, 0, ..., 0, 0, 0],\n",
       "       [0, 0, 0, ..., 0, 0, 0]], dtype=int64)"
      ]
     },
     "execution_count": 50,
     "metadata": {},
     "output_type": "execute_result"
    }
   ],
   "source": [
    "covec.fit_transform(anime_df['Tags']).toarray()"
   ]
  },
  {
   "cell_type": "code",
   "execution_count": 51,
   "id": "ee661251",
   "metadata": {},
   "outputs": [
    {
     "data": {
      "text/plain": [
       "(15568, 617)"
      ]
     },
     "execution_count": 51,
     "metadata": {},
     "output_type": "execute_result"
    }
   ],
   "source": [
    "covec.fit_transform(anime_df['Tags']).toarray().shape"
   ]
  },
  {
   "cell_type": "code",
   "execution_count": 52,
   "id": "5b5dccda",
   "metadata": {},
   "outputs": [
    {
     "name": "stdout",
     "output_type": "stream",
     "text": [
      "['15th', '16th', '17th', '18th', '19th', '2', '4koma', 'abstract', 'abuse', 'acting', 'action', 'adult', 'adventure', 'africa', 'afterlife']\n"
     ]
    }
   ],
   "source": [
    "print(covec.get_feature_names()[:15])"
   ]
  },
  {
   "cell_type": "code",
   "execution_count": 53,
   "id": "d714c4f9",
   "metadata": {},
   "outputs": [],
   "source": [
    "token_vectors = covec.fit_transform(anime_df['Tags']).toarray()"
   ]
  },
  {
   "cell_type": "markdown",
   "id": "2573a50a",
   "metadata": {},
   "source": [
    "## Make the Recommendation System"
   ]
  },
  {
   "cell_type": "code",
   "execution_count": 54,
   "id": "43cf5efc",
   "metadata": {},
   "outputs": [],
   "source": [
    "from sklearn.metrics.pairwise import cosine_similarity"
   ]
  },
  {
   "cell_type": "code",
   "execution_count": 55,
   "id": "2700c314",
   "metadata": {},
   "outputs": [],
   "source": [
    "text_similarity = cosine_similarity(token_vectors)"
   ]
  },
  {
   "cell_type": "code",
   "execution_count": 56,
   "id": "934d3f78",
   "metadata": {},
   "outputs": [
    {
     "data": {
      "text/plain": [
       "array([[1.        , 0.26568447, 0.16329932, ..., 0.        , 0.        ,\n",
       "        0.        ],\n",
       "       [0.26568447, 1.        , 0.16269784, ..., 0.        , 0.        ,\n",
       "        0.        ],\n",
       "       [0.16329932, 0.16269784, 1.        , ..., 0.25819889, 0.25819889,\n",
       "        0.        ],\n",
       "       ...,\n",
       "       [0.        , 0.        , 0.25819889, ..., 1.        , 1.        ,\n",
       "        0.        ],\n",
       "       [0.        , 0.        , 0.25819889, ..., 1.        , 1.        ,\n",
       "        0.        ],\n",
       "       [0.        , 0.        , 0.        , ..., 0.        , 0.        ,\n",
       "        1.        ]])"
      ]
     },
     "execution_count": 56,
     "metadata": {},
     "output_type": "execute_result"
    }
   ],
   "source": [
    "text_similarity"
   ]
  },
  {
   "cell_type": "code",
   "execution_count": 57,
   "id": "266da8f7",
   "metadata": {},
   "outputs": [
    {
     "data": {
      "text/plain": [
       "(15568, 15568)"
      ]
     },
     "execution_count": 57,
     "metadata": {},
     "output_type": "execute_result"
    }
   ],
   "source": [
    "text_similarity.shape"
   ]
  },
  {
   "cell_type": "code",
   "execution_count": 58,
   "id": "ecdbcf71",
   "metadata": {},
   "outputs": [
    {
     "data": {
      "text/html": [
       "<div>\n",
       "<style scoped>\n",
       "    .dataframe tbody tr th:only-of-type {\n",
       "        vertical-align: middle;\n",
       "    }\n",
       "\n",
       "    .dataframe tbody tr th {\n",
       "        vertical-align: top;\n",
       "    }\n",
       "\n",
       "    .dataframe thead th {\n",
       "        text-align: right;\n",
       "    }\n",
       "</style>\n",
       "<table border=\"1\" class=\"dataframe\">\n",
       "  <thead>\n",
       "    <tr style=\"text-align: right;\">\n",
       "      <th>Name</th>\n",
       "      <th>Name</th>\n",
       "      <th>Demon Slayer: Kimetsu no Yaiba - Entertainment District Arc</th>\n",
       "      <th>Fruits Basket the Final Season</th>\n",
       "      <th>Mo Dao Zu Shi 3</th>\n",
       "      <th>Fullmetal Alchemist: Brotherhood</th>\n",
       "      <th>Attack on Titan 3rd Season: Part II</th>\n",
       "      <th>Jujutsu Kaisen</th>\n",
       "      <th>Attack on Titan The Final Season: Part II</th>\n",
       "      <th>Attack on Titan The Final Season</th>\n",
       "      <th>Demon Slayer: Kimetsu no Yaiba Movie - Mugen Train</th>\n",
       "      <th>...</th>\n",
       "      <th>Zhandou Ba Geji! Shanyao de Richang</th>\n",
       "      <th>Better back then</th>\n",
       "      <th>Make My Day</th>\n",
       "      <th>Shachiku-san wa Youjo Yuurei ni Iyasaretai.</th>\n",
       "      <th>Nostalgia</th>\n",
       "      <th>Qin Shi Mingyue: Canghai Hengliu Xiaomeng Specials</th>\n",
       "      <th>Yi Tang Juchang: Sanguo Yanyi</th>\n",
       "      <th>Fenghuang Ji Xiang Yu Qingming Shanghe Tu</th>\n",
       "      <th>Chengshi Jiyi Wo Men de Jieri</th>\n",
       "      <th>Heisei Inu Monogatari Bow: Genshi Inu Monogatari Bow</th>\n",
       "    </tr>\n",
       "  </thead>\n",
       "  <tbody>\n",
       "    <tr>\n",
       "      <th>0</th>\n",
       "      <td>Demon Slayer: Kimetsu no Yaiba - Entertainment...</td>\n",
       "      <td>1.000000</td>\n",
       "      <td>0.265684</td>\n",
       "      <td>0.163299</td>\n",
       "      <td>0.430706</td>\n",
       "      <td>0.473879</td>\n",
       "      <td>0.429669</td>\n",
       "      <td>0.429669</td>\n",
       "      <td>0.461880</td>\n",
       "      <td>0.791155</td>\n",
       "      <td>...</td>\n",
       "      <td>0.0</td>\n",
       "      <td>0.000000</td>\n",
       "      <td>0.000000</td>\n",
       "      <td>0.163299</td>\n",
       "      <td>0.000000</td>\n",
       "      <td>0.286446</td>\n",
       "      <td>0.000000</td>\n",
       "      <td>0.000000</td>\n",
       "      <td>0.000000</td>\n",
       "      <td>0.0</td>\n",
       "    </tr>\n",
       "    <tr>\n",
       "      <th>1</th>\n",
       "      <td>Fruits Basket the Final Season</td>\n",
       "      <td>0.265684</td>\n",
       "      <td>1.000000</td>\n",
       "      <td>0.162698</td>\n",
       "      <td>0.572159</td>\n",
       "      <td>0.275411</td>\n",
       "      <td>0.190261</td>\n",
       "      <td>0.332956</td>\n",
       "      <td>0.575224</td>\n",
       "      <td>0.404226</td>\n",
       "      <td>...</td>\n",
       "      <td>0.0</td>\n",
       "      <td>0.000000</td>\n",
       "      <td>0.000000</td>\n",
       "      <td>0.108465</td>\n",
       "      <td>0.070014</td>\n",
       "      <td>0.000000</td>\n",
       "      <td>0.000000</td>\n",
       "      <td>0.000000</td>\n",
       "      <td>0.000000</td>\n",
       "      <td>0.0</td>\n",
       "    </tr>\n",
       "    <tr>\n",
       "      <th>2</th>\n",
       "      <td>Mo Dao Zu Shi 3</td>\n",
       "      <td>0.163299</td>\n",
       "      <td>0.162698</td>\n",
       "      <td>1.000000</td>\n",
       "      <td>0.131876</td>\n",
       "      <td>0.217643</td>\n",
       "      <td>0.087706</td>\n",
       "      <td>0.263117</td>\n",
       "      <td>0.212132</td>\n",
       "      <td>0.149071</td>\n",
       "      <td>...</td>\n",
       "      <td>0.3</td>\n",
       "      <td>0.129099</td>\n",
       "      <td>0.000000</td>\n",
       "      <td>0.100000</td>\n",
       "      <td>0.129099</td>\n",
       "      <td>0.438529</td>\n",
       "      <td>0.447214</td>\n",
       "      <td>0.258199</td>\n",
       "      <td>0.258199</td>\n",
       "      <td>0.0</td>\n",
       "    </tr>\n",
       "    <tr>\n",
       "      <th>3</th>\n",
       "      <td>Fullmetal Alchemist: Brotherhood</td>\n",
       "      <td>0.430706</td>\n",
       "      <td>0.572159</td>\n",
       "      <td>0.131876</td>\n",
       "      <td>1.000000</td>\n",
       "      <td>0.382692</td>\n",
       "      <td>0.289157</td>\n",
       "      <td>0.462652</td>\n",
       "      <td>0.606128</td>\n",
       "      <td>0.491473</td>\n",
       "      <td>...</td>\n",
       "      <td>0.0</td>\n",
       "      <td>0.000000</td>\n",
       "      <td>0.000000</td>\n",
       "      <td>0.131876</td>\n",
       "      <td>0.085126</td>\n",
       "      <td>0.057831</td>\n",
       "      <td>0.000000</td>\n",
       "      <td>0.000000</td>\n",
       "      <td>0.000000</td>\n",
       "      <td>0.0</td>\n",
       "    </tr>\n",
       "    <tr>\n",
       "      <th>4</th>\n",
       "      <td>Attack on Titan 3rd Season: Part II</td>\n",
       "      <td>0.473879</td>\n",
       "      <td>0.275411</td>\n",
       "      <td>0.217643</td>\n",
       "      <td>0.382692</td>\n",
       "      <td>1.000000</td>\n",
       "      <td>0.445399</td>\n",
       "      <td>0.699913</td>\n",
       "      <td>0.666886</td>\n",
       "      <td>0.378517</td>\n",
       "      <td>...</td>\n",
       "      <td>0.0</td>\n",
       "      <td>0.000000</td>\n",
       "      <td>0.114708</td>\n",
       "      <td>0.145095</td>\n",
       "      <td>0.000000</td>\n",
       "      <td>0.063628</td>\n",
       "      <td>0.000000</td>\n",
       "      <td>0.000000</td>\n",
       "      <td>0.000000</td>\n",
       "      <td>0.0</td>\n",
       "    </tr>\n",
       "  </tbody>\n",
       "</table>\n",
       "<p>5 rows × 15569 columns</p>\n",
       "</div>"
      ],
      "text/plain": [
       "Name                                               Name  \\\n",
       "0     Demon Slayer: Kimetsu no Yaiba - Entertainment...   \n",
       "1                        Fruits Basket the Final Season   \n",
       "2                                       Mo Dao Zu Shi 3   \n",
       "3                      Fullmetal Alchemist: Brotherhood   \n",
       "4                   Attack on Titan 3rd Season: Part II   \n",
       "\n",
       "Name  Demon Slayer: Kimetsu no Yaiba - Entertainment District Arc  \\\n",
       "0                                              1.000000             \n",
       "1                                              0.265684             \n",
       "2                                              0.163299             \n",
       "3                                              0.430706             \n",
       "4                                              0.473879             \n",
       "\n",
       "Name  Fruits Basket the Final Season  Mo Dao Zu Shi 3  \\\n",
       "0                           0.265684         0.163299   \n",
       "1                           1.000000         0.162698   \n",
       "2                           0.162698         1.000000   \n",
       "3                           0.572159         0.131876   \n",
       "4                           0.275411         0.217643   \n",
       "\n",
       "Name  Fullmetal Alchemist: Brotherhood  Attack on Titan 3rd Season: Part II  \\\n",
       "0                             0.430706                             0.473879   \n",
       "1                             0.572159                             0.275411   \n",
       "2                             0.131876                             0.217643   \n",
       "3                             1.000000                             0.382692   \n",
       "4                             0.382692                             1.000000   \n",
       "\n",
       "Name  Jujutsu Kaisen  Attack on Titan The Final Season: Part II  \\\n",
       "0           0.429669                                   0.429669   \n",
       "1           0.190261                                   0.332956   \n",
       "2           0.087706                                   0.263117   \n",
       "3           0.289157                                   0.462652   \n",
       "4           0.445399                                   0.699913   \n",
       "\n",
       "Name  Attack on Titan The Final Season  \\\n",
       "0                             0.461880   \n",
       "1                             0.575224   \n",
       "2                             0.212132   \n",
       "3                             0.606128   \n",
       "4                             0.666886   \n",
       "\n",
       "Name  Demon Slayer: Kimetsu no Yaiba Movie - Mugen Train  ...  \\\n",
       "0                                              0.791155   ...   \n",
       "1                                              0.404226   ...   \n",
       "2                                              0.149071   ...   \n",
       "3                                              0.491473   ...   \n",
       "4                                              0.378517   ...   \n",
       "\n",
       "Name  Zhandou Ba Geji! Shanyao de Richang  Better back then  Make My Day  \\\n",
       "0                                     0.0          0.000000     0.000000   \n",
       "1                                     0.0          0.000000     0.000000   \n",
       "2                                     0.3          0.129099     0.000000   \n",
       "3                                     0.0          0.000000     0.000000   \n",
       "4                                     0.0          0.000000     0.114708   \n",
       "\n",
       "Name  Shachiku-san wa Youjo Yuurei ni Iyasaretai.  Nostalgia  \\\n",
       "0                                        0.163299   0.000000   \n",
       "1                                        0.108465   0.070014   \n",
       "2                                        0.100000   0.129099   \n",
       "3                                        0.131876   0.085126   \n",
       "4                                        0.145095   0.000000   \n",
       "\n",
       "Name  Qin Shi Mingyue: Canghai Hengliu Xiaomeng Specials  \\\n",
       "0                                              0.286446    \n",
       "1                                              0.000000    \n",
       "2                                              0.438529    \n",
       "3                                              0.057831    \n",
       "4                                              0.063628    \n",
       "\n",
       "Name  Yi Tang Juchang: Sanguo Yanyi  \\\n",
       "0                          0.000000   \n",
       "1                          0.000000   \n",
       "2                          0.447214   \n",
       "3                          0.000000   \n",
       "4                          0.000000   \n",
       "\n",
       "Name  Fenghuang Ji Xiang Yu Qingming Shanghe Tu  \\\n",
       "0                                      0.000000   \n",
       "1                                      0.000000   \n",
       "2                                      0.258199   \n",
       "3                                      0.000000   \n",
       "4                                      0.000000   \n",
       "\n",
       "Name  Chengshi Jiyi Wo Men de Jieri  \\\n",
       "0                          0.000000   \n",
       "1                          0.000000   \n",
       "2                          0.258199   \n",
       "3                          0.000000   \n",
       "4                          0.000000   \n",
       "\n",
       "Name  Heisei Inu Monogatari Bow: Genshi Inu Monogatari Bow  \n",
       "0                                                   0.0     \n",
       "1                                                   0.0     \n",
       "2                                                   0.0     \n",
       "3                                                   0.0     \n",
       "4                                                   0.0     \n",
       "\n",
       "[5 rows x 15569 columns]"
      ]
     },
     "execution_count": 58,
     "metadata": {},
     "output_type": "execute_result"
    }
   ],
   "source": [
    "df = pd.DataFrame(text_similarity, columns=anime_df['Name'], index=anime_df['Name']).reset_index()\n",
    "\n",
    "df.head()"
   ]
  },
  {
   "cell_type": "code",
   "execution_count": 59,
   "id": "edba2693",
   "metadata": {},
   "outputs": [
    {
     "name": "stdout",
     "output_type": "stream",
     "text": [
      "                                                   Name\n",
      "12                       Demon Slayer: Kimetsu no Yaiba\n",
      "8     Demon Slayer: Kimetsu no Yaiba Movie - Mugen T...\n",
      "268                                     Hunter x Hunter\n",
      "2076                    JoJo's Bizarre Adventure (2000)\n",
      "47         Demon Slayer: Kimetsu no Yaiba - Mugen Train\n"
     ]
    }
   ],
   "source": [
    "input_anime = 'Demon Slayer: Kimetsu no Yaiba - Entertainment District Arc'\n",
    "\n",
    "recommendation = pd.DataFrame(df.nlargest(6, input_anime)['Name'])\n",
    "\n",
    "recommender = recommendation[recommendation['Name']!=input_anime]\n",
    "\n",
    "print(recommender)"
   ]
  },
  {
   "cell_type": "code",
   "execution_count": 60,
   "id": "2fdbfb98",
   "metadata": {},
   "outputs": [],
   "source": [
    "def recommender():\n",
    "    \n",
    "    input_anime = input('Please enter Anime name here: ')\n",
    "\n",
    "    recommendation = pd.DataFrame(df.nlargest(21, input_anime)['Name'])\n",
    "\n",
    "    recommender = recommendation[recommendation['Name']!=input_anime]\n",
    "\n",
    "    return(recommender)"
   ]
  },
  {
   "cell_type": "code",
   "execution_count": 61,
   "id": "30e16e51",
   "metadata": {},
   "outputs": [
    {
     "name": "stdout",
     "output_type": "stream",
     "text": [
      "Please enter Anime name here: Tokyo Ghoul\n"
     ]
    },
    {
     "data": {
      "text/html": [
       "<div>\n",
       "<style scoped>\n",
       "    .dataframe tbody tr th:only-of-type {\n",
       "        vertical-align: middle;\n",
       "    }\n",
       "\n",
       "    .dataframe tbody tr th {\n",
       "        vertical-align: top;\n",
       "    }\n",
       "\n",
       "    .dataframe thead th {\n",
       "        text-align: right;\n",
       "    }\n",
       "</style>\n",
       "<table border=\"1\" class=\"dataframe\">\n",
       "  <thead>\n",
       "    <tr style=\"text-align: right;\">\n",
       "      <th></th>\n",
       "      <th>Name</th>\n",
       "    </tr>\n",
       "  </thead>\n",
       "  <tbody>\n",
       "    <tr>\n",
       "      <th>3192</th>\n",
       "      <td>Tokyo Ghoul:re</td>\n",
       "    </tr>\n",
       "    <tr>\n",
       "      <th>2051</th>\n",
       "      <td>Tokyo Ghoul: Pinto</td>\n",
       "    </tr>\n",
       "    <tr>\n",
       "      <th>1173</th>\n",
       "      <td>Tokyo Ghoul √A</td>\n",
       "    </tr>\n",
       "    <tr>\n",
       "      <th>1742</th>\n",
       "      <td>Ajin: Demi-Human</td>\n",
       "    </tr>\n",
       "    <tr>\n",
       "      <th>10826</th>\n",
       "      <td>Shadow Star Narutaru</td>\n",
       "    </tr>\n",
       "    <tr>\n",
       "      <th>935</th>\n",
       "      <td>Ajin: Demi-Human 2nd Season</td>\n",
       "    </tr>\n",
       "    <tr>\n",
       "      <th>11967</th>\n",
       "      <td>Violence Jack 2: Evil Town</td>\n",
       "    </tr>\n",
       "    <tr>\n",
       "      <th>5957</th>\n",
       "      <td>Devilman: The Birth</td>\n",
       "    </tr>\n",
       "    <tr>\n",
       "      <th>12009</th>\n",
       "      <td>Violence Jack 3: Hell's Wind</td>\n",
       "    </tr>\n",
       "    <tr>\n",
       "      <th>6939</th>\n",
       "      <td>Tokko</td>\n",
       "    </tr>\n",
       "    <tr>\n",
       "      <th>1657</th>\n",
       "      <td>Ajin Movie 3: Shougeki</td>\n",
       "    </tr>\n",
       "    <tr>\n",
       "      <th>3079</th>\n",
       "      <td>Ajin OVA</td>\n",
       "    </tr>\n",
       "    <tr>\n",
       "      <th>11383</th>\n",
       "      <td>Koryu no Mimi</td>\n",
       "    </tr>\n",
       "    <tr>\n",
       "      <th>11308</th>\n",
       "      <td>Baoh</td>\n",
       "    </tr>\n",
       "    <tr>\n",
       "      <th>1672</th>\n",
       "      <td>Tokyo Ghoul: Jack</td>\n",
       "    </tr>\n",
       "    <tr>\n",
       "      <th>2988</th>\n",
       "      <td>Tokyo Ghoul:re 2nd Season</td>\n",
       "    </tr>\n",
       "    <tr>\n",
       "      <th>11343</th>\n",
       "      <td>Ichi the Killer: Episode 0</td>\n",
       "    </tr>\n",
       "    <tr>\n",
       "      <th>12637</th>\n",
       "      <td>Pupa</td>\n",
       "    </tr>\n",
       "    <tr>\n",
       "      <th>155</th>\n",
       "      <td>Parasyte -the maxim-</td>\n",
       "    </tr>\n",
       "    <tr>\n",
       "      <th>8917</th>\n",
       "      <td>Tokyo Tribe 2</td>\n",
       "    </tr>\n",
       "  </tbody>\n",
       "</table>\n",
       "</div>"
      ],
      "text/plain": [
       "                               Name\n",
       "3192                 Tokyo Ghoul:re\n",
       "2051             Tokyo Ghoul: Pinto\n",
       "1173                 Tokyo Ghoul √A\n",
       "1742               Ajin: Demi-Human\n",
       "10826          Shadow Star Narutaru\n",
       "935     Ajin: Demi-Human 2nd Season\n",
       "11967    Violence Jack 2: Evil Town\n",
       "5957            Devilman: The Birth\n",
       "12009  Violence Jack 3: Hell's Wind\n",
       "6939                          Tokko\n",
       "1657         Ajin Movie 3: Shougeki\n",
       "3079                       Ajin OVA\n",
       "11383                 Koryu no Mimi\n",
       "11308                          Baoh\n",
       "1672              Tokyo Ghoul: Jack\n",
       "2988      Tokyo Ghoul:re 2nd Season\n",
       "11343    Ichi the Killer: Episode 0\n",
       "12637                          Pupa\n",
       "155            Parasyte -the maxim-\n",
       "8917                  Tokyo Tribe 2"
      ]
     },
     "execution_count": 61,
     "metadata": {},
     "output_type": "execute_result"
    }
   ],
   "source": [
    "recommender()"
   ]
  },
  {
   "cell_type": "markdown",
   "id": "cb421f33",
   "metadata": {},
   "source": [
    "# End"
   ]
  },
  {
   "cell_type": "code",
   "execution_count": null,
   "id": "5fd4f486",
   "metadata": {},
   "outputs": [],
   "source": []
  }
 ],
 "metadata": {
  "kernelspec": {
   "display_name": "Python 3 (ipykernel)",
   "language": "python",
   "name": "python3"
  },
  "language_info": {
   "codemirror_mode": {
    "name": "ipython",
    "version": 3
   },
   "file_extension": ".py",
   "mimetype": "text/x-python",
   "name": "python",
   "nbconvert_exporter": "python",
   "pygments_lexer": "ipython3",
   "version": "3.9.13"
  }
 },
 "nbformat": 4,
 "nbformat_minor": 5
}
